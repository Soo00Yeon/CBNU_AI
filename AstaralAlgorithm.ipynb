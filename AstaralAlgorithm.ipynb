{
 "cells": [
  {
   "cell_type": "code",
   "execution_count": 1,
   "id": "3eb30a14",
   "metadata": {},
   "outputs": [],
   "source": [
    "import numpy as np\n",
    "import heapq # min heap 을 구현하는 heap queue\n",
    "import matplotlib.pyplot as plt\n",
    "from matplotlib.pyplot import figure"
   ]
  },
  {
   "cell_type": "code",
   "execution_count": 2,
   "id": "4cf6e035",
   "metadata": {},
   "outputs": [],
   "source": [
    "# 지도 1 벽, 0 : 빈공간\n",
    "grid = np.array([\n",
    "    [0,1,0,0,0,0,1,1,0,0,0,0,0,0,0,0,0,0,0,0],\n",
    "    [0,1,0,0,0,0,0,1,1,0,0,0,0,0,0,0,0,0,0,0],\n",
    "    [0,0,0,0,0,0,1,0,1,0,0,0,0,0,0,0,0,0,0,0],\n",
    "    [0,0,1,0,0,0,0,0,1,0,0,0,0,0,0,0,0,0,0,0],\n",
    "    [0,0,0,0,0,0,0,0,1,0,0,0,0,0,0,0,0,0,0,0],\n",
    "    [1,0,0,1,1,1,0,0,1,0,0,0,0,0,0,0,0,0,0,0],\n",
    "    [1,0,0,0,0,0,0,0,1,0,0,0,0,1,1,1,1,1,0,1],\n",
    "    [1,0,0,0,0,0,0,0,1,0,0,0,0,1,1,1,0,0,0,0],\n",
    "    [1,0,0,0,0,0,0,0,1,0,0,0,0,1,1,1,0,0,0,0],\n",
    "    [0,0,0,0,0,0,0,0,1,1,1,1,1,1,0,0,0,0,0,0],\n",
    "    [0,0,0,0,0,0,0,0,1,0,0,0,0,0,0,0,0,0,0,0],\n",
    "    [1,1,1,1,1,0,0,0,1,0,0,0,0,0,0,0,1,1,1,1],\n",
    "    [0,0,0,0,0,0,0,0,1,0,0,1,1,1,1,0,1,1,1,0],\n",
    "    [0,0,0,0,0,0,0,0,1,0,0,0,0,0,0,0,0,0,0,0],\n",
    "    [0,0,0,0,0,0,0,0,1,1,1,1,1,1,0,1,1,1,0,0],\n",
    "    [0,0,1,1,1,1,1,1,1,0,0,0,0,1,0,0,0,0,0,0],\n",
    "    [0,0,1,0,0,0,0,0,0,0,0,0,0,1,0,0,0,0,0,0],\n",
    "    [0,0,1,0,0,0,0,0,0,0,0,0,0,0,0,0,0,0,0,0],\n",
    "    [0,0,0,0,0,0,0,0,0,0,0,0,0,1,0,0,0,0,0,0],\n",
    "    [0,0,1,1,1,0,0,0,0,0,0,0,0,0,0,0,0,0,0,0]])"
   ]
  },
  {
   "cell_type": "code",
   "execution_count": 3,
   "id": "75cdf506",
   "metadata": {},
   "outputs": [],
   "source": [
    "start = (0,0)   #시작 위치\n",
    "goal = (0,19) # 목적지 위치"
   ]
  },
  {
   "cell_type": "code",
   "execution_count": 4,
   "id": "440a5638",
   "metadata": {},
   "outputs": [],
   "source": [
    "#휴리스틱 함수 h() : a와  b사이의 유클리드 거리 \n",
    "def heuristic(a,b):\n",
    "    return np.sqrt((b[0]-a[0])**2+(b[1]-a[1])**2)"
   ]
  },
  {
   "cell_type": "code",
   "execution_count": 5,
   "id": "a2c1e5c6",
   "metadata": {},
   "outputs": [],
   "source": [
    "#A* 알고리즘\n",
    "def Astar(array,start,goal):\n",
    "    neighbors =[(0,1),(0,-1),(-1,0),(1,1),(1,-1),(-1,1),(-1,-1)] #이웃 위치\n",
    "    close_set = set() #탐색이 종료된 위치들의 집합 \n",
    "    came_from ={}\n",
    "    gscore = {start:0} #시작 위치의 g()값\n",
    "    fscore = {start:heuristic(start,goal)} #시작위치의 f() 값\n",
    "    oheap = [] #min-heap\n",
    "    heapq.heappush(oheap,(fscore[start],start)) #(거리,출발지)min-heap에 저장 \n",
    "    \n",
    "    while oheap:\n",
    "        current = heapq.heappop(oheap)[1] # f()값이 최소인 노드 수출\n",
    "        if current == goal: #목적지 도착\n",
    "            data = []\n",
    "            while current in came_from: #목적지에서 역순으로 경로 추출 \n",
    "                data.append(current)\n",
    "                current = came_from[current]\n",
    "            return data\n",
    "        close_set.add(current) #current 위치를 탐색이 종료된 것으로 간주\n",
    "        \n",
    "        for i,j in neighbors: #current 위치의 각 이웃 위치에 대해 f() 값 계산\n",
    "            neighbor = current[0]+i,current[1]+j # 이웃 위치\n",
    "            if 0 <= neighbor[0] < array.shape[0]:\n",
    "                if 0 <= neighbor[1] < array.shape[1]:\n",
    "                    if array[neighbor[0]][neighbor[1]] == 1: #벽\n",
    "                        continue\n",
    "                    else: # y방향의 경계를 벗어난 상황\n",
    "                        continue\n",
    "                else:  # x방향의 경계를 벗어난 상황\n",
    "                    continue\n",
    "                    \n",
    "                temp_g_score = gscore[current]+heuristic(current,neighbor) # g^(n) = g(c)+h((c,n))\n",
    "                if neighbor in close_set and temp_g_score >= gscore.get(neighbor,0):\n",
    "                    continue #이미 방문한 위치이면서 g^() 값이 기존 g()값보다 큰 경우 --> 무시\n",
    "                \n",
    "                if temp_g_score < gscore.get(neighbor,0) or neighbor not in [i[1]for i in oheap]:\n",
    "                    #g^(n)<g(n) 이거나, n을 처음 방문한 경우 \n",
    "                    came_from[neighbor]=current #neighbor 에 도달한 최선의 경로에서 직선 위치는 current\n",
    "                    gscore[neighbor] = temp_g_score #g^(n)=g(n)\n",
    "                    fscore[neighbor] = temp_g_score + heuristic(neighbor,goal) # f()=g()+h()\n",
    "                    heapq.heappush(oheap,(fscore[neighbor],neighbor)) # min heap 에 (f(),neighbor) 삽입\n",
    "    return False\n",
    "    "
   ]
  },
  {
   "cell_type": "code",
   "execution_count": 6,
   "id": "e102f451",
   "metadata": {},
   "outputs": [
    {
     "ename": "TypeError",
     "evalue": "unsupported operand type(s) for +: 'bool' and 'tuple'",
     "output_type": "error",
     "traceback": [
      "\u001b[1;31m---------------------------------------------------------------------------\u001b[0m",
      "\u001b[1;31mTypeError\u001b[0m                                 Traceback (most recent call last)",
      "Cell \u001b[1;32mIn[6], line 2\u001b[0m\n\u001b[0;32m      1\u001b[0m route \u001b[38;5;241m=\u001b[39m Astar(grid,start,goal)\n\u001b[1;32m----> 2\u001b[0m route \u001b[38;5;241m=\u001b[39m route \u001b[38;5;241m+\u001b[39m start \u001b[38;5;66;03m# 출발 위치 추가\u001b[39;00m\n\u001b[0;32m      3\u001b[0m route \u001b[38;5;241m=\u001b[39m route[::\u001b[38;5;241m-\u001b[39m\u001b[38;5;241m1\u001b[39m] \u001b[38;5;66;03m#역순으로 변환\u001b[39;00m\n\u001b[0;32m      4\u001b[0m \u001b[38;5;28mprint\u001b[39m(\u001b[38;5;124m'\u001b[39m\u001b[38;5;124m경로:\u001b[39m\u001b[38;5;124m'\u001b[39m, route)\n",
      "\u001b[1;31mTypeError\u001b[0m: unsupported operand type(s) for +: 'bool' and 'tuple'"
     ]
    }
   ],
   "source": [
    "route = Astar(grid,start,goal)\n",
    "route = route + [start] # 출발 위치 추가\n",
    "route = route[::-1] #역순으로 변환\n",
    "print('경로:', route)\n",
    "\n",
    "#route 에서 x와 y 좌표 추출\n",
    "x_coords = []\n",
    "y_coords = []\n",
    "for i in (range(0,len(route))):\n",
    "    x = route[i][0]\n",
    "    y = route[i][1]\n",
    "    x_coords.append(x)\n",
    "    y_coords.append(y)\n",
    "    \n",
    " #지도와 경도 그리기\n",
    "fig, ax = plt.subplots(figsize=(12,12))\n",
    "ax.imshow(grid,cmap=plt.cm.Pastel1)\n",
    "ax.scatter(start[1],start[0],marker=\"*\",color=\"red\",s=200)\n",
    "ax.scatter(goal[1],goal[0],marker=\"*\",color=\"green\",s=200)\n",
    "ax.plot(y_coords,x_coords,color=\"blue\")\n",
    "plt.show()"
   ]
  },
  {
   "cell_type": "code",
   "execution_count": null,
   "id": "003c5d02",
   "metadata": {},
   "outputs": [],
   "source": []
  }
 ],
 "metadata": {
  "kernelspec": {
   "display_name": "Python 3 (ipykernel)",
   "language": "python",
   "name": "python3"
  },
  "language_info": {
   "codemirror_mode": {
    "name": "ipython",
    "version": 3
   },
   "file_extension": ".py",
   "mimetype": "text/x-python",
   "name": "python",
   "nbconvert_exporter": "python",
   "pygments_lexer": "ipython3",
   "version": "3.11.5"
  }
 },
 "nbformat": 4,
 "nbformat_minor": 5
}
