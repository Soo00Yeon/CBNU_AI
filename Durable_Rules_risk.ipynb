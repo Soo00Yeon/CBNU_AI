{
 "cells": [
  {
   "cell_type": "code",
   "execution_count": 1,
   "id": "f33b9b2b",
   "metadata": {},
   "outputs": [
    {
     "name": "stdout",
     "output_type": "stream",
     "text": [
      "이상거래 탐지 -> CA, US\n"
     ]
    },
    {
     "data": {
      "text/plain": [
       "{'sid': '0', 'id': 'sid-0', '$s': 1}"
      ]
     },
     "execution_count": 1,
     "metadata": {},
     "output_type": "execute_result"
    }
   ],
   "source": [
    "from durable.lang import *\n",
    "\n",
    "with ruleset('risk'):\n",
    "    @when_all(c.first << m.t=='purchase', #<<해당 조건을 만족하는 대상 지시하는 이름 \n",
    "              c.second << m.location != c.first.location)\n",
    "    def fraud(c):\n",
    "        print('이상거래 탐지 -> {0}, {1}'.format(c.first.location, c.second.location))\n",
    "\n",
    "post('risk', {'t':'purchase', 'location':'US'})\n",
    "post('risk', {'t':'purchase', 'location':'CA'})\n"
   ]
  },
  {
   "cell_type": "code",
   "execution_count": null,
   "id": "28fd8afb",
   "metadata": {},
   "outputs": [],
   "source": []
  },
  {
   "cell_type": "code",
   "execution_count": null,
   "id": "617165c1",
   "metadata": {},
   "outputs": [],
   "source": []
  }
 ],
 "metadata": {
  "kernelspec": {
   "display_name": "Python 3 (ipykernel)",
   "language": "python",
   "name": "python3"
  },
  "language_info": {
   "codemirror_mode": {
    "name": "ipython",
    "version": 3
   },
   "file_extension": ".py",
   "mimetype": "text/x-python",
   "name": "python",
   "nbconvert_exporter": "python",
   "pygments_lexer": "ipython3",
   "version": "3.11.5"
  }
 },
 "nbformat": 4,
 "nbformat_minor": 5
}
