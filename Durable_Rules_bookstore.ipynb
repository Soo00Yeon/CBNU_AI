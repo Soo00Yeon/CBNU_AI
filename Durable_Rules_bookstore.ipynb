{
 "cells": [
  {
   "cell_type": "code",
   "execution_count": 3,
   "id": "08c05ef2",
   "metadata": {},
   "outputs": [
    {
     "name": "stdout",
     "output_type": "stream",
     "text": [
      "bookstore-> Added \"the new book\" \n",
      "bookstore-> Added \"The new book\" \n",
      "bookstore-> Reference 75323 status Active\n"
     ]
    }
   ],
   "source": [
    "from durable.lang import *\n",
    "with ruleset('bookstore'):\n",
    "    @when_all(+m.status) #status 를 갖는 것에 대해서 실해오디는 규칙\n",
    "    def event(c):\n",
    "        print('bookstore-> Reference {0} status {1}'.format(c.m.reference,c.m.status))\n",
    "        \n",
    "    @when_all(+m.name) \n",
    "    def fact(c):\n",
    "        print('bookstore-> Added \"{0}\" '.format(c.m.name))\n",
    "        \n",
    "    @when_all(none(+m.name)) #name이 없는 것(삭제되는 것)에 호출\n",
    "    def empty(c):\n",
    "        print('bookstore-> No books')\n",
    "        \n",
    "#새로운 fact 추가하는 경우\n",
    "assert_fact('bookstore',{\n",
    "    'name' : 'the new book',\n",
    "    'seller' : 'bookstore',\n",
    "    'reference' : '75323',\n",
    "    'price' : 500\n",
    "})\n",
    "\n",
    "# 기존의 fact 룰 다시 추가 하는 경우 \n",
    "try:\n",
    "    assert_fact('bookstore',{\n",
    "    'reference' : '75323',\n",
    "    'name' : 'The new book',\n",
    "    'price' : 500,\n",
    "    'seller' : 'bookstore'\n",
    "    })\n",
    "    \n",
    "except BaseException as e :\n",
    "    print('Error:{0}'.format(e.message))\n",
    "    \n",
    "post('bookstore',{\n",
    "    'reference' : '75323',\n",
    "    'status' : 'Active'\n",
    "})\n",
    "\n",
    "retract_fact('bookstore',{\n",
    "    'name' : 'The new book',\n",
    "    'seller' : 'bookstore',\n",
    "    'reference' : '75323',\n",
    "    'price' : 500\n",
    "})"
   ]
  },
  {
   "cell_type": "code",
   "execution_count": null,
   "id": "71bda09d",
   "metadata": {},
   "outputs": [],
   "source": []
  }
 ],
 "metadata": {
  "kernelspec": {
   "display_name": "Python 3 (ipykernel)",
   "language": "python",
   "name": "python3"
  },
  "language_info": {
   "codemirror_mode": {
    "name": "ipython",
    "version": 3
   },
   "file_extension": ".py",
   "mimetype": "text/x-python",
   "name": "python",
   "nbconvert_exporter": "python",
   "pygments_lexer": "ipython3",
   "version": "3.11.5"
  }
 },
 "nbformat": 4,
 "nbformat_minor": 5
}
