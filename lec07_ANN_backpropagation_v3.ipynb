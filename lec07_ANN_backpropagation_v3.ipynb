{
 "cells": [
  {
   "cell_type": "markdown",
   "metadata": {
    "id": "ZjSqxpv72Kir"
   },
   "source": [
    "# BackPropagation"
   ]
  },
  {
   "cell_type": "code",
   "execution_count": 1,
   "metadata": {
    "executionInfo": {
     "elapsed": 255,
     "status": "ok",
     "timestamp": 1732191377657,
     "user": {
      "displayName": "신희권",
      "userId": "16285237679427901345"
     },
     "user_tz": -540
    },
    "id": "_voc8G_03TJp"
   },
   "outputs": [],
   "source": [
    "import numpy as np\n",
    "import matplotlib.pyplot as plt\n",
    "\n",
    "np.random.seed(4)"
   ]
  },
  {
   "cell_type": "markdown",
   "metadata": {
    "id": "RRGMTCev2OJQ"
   },
   "source": [
    "## XOR Dataset"
   ]
  },
  {
   "cell_type": "code",
   "execution_count": 2,
   "metadata": {
    "executionInfo": {
     "elapsed": 266,
     "status": "ok",
     "timestamp": 1732191400521,
     "user": {
      "displayName": "신희권",
      "userId": "16285237679427901345"
     },
     "user_tz": -540
    },
    "id": "9dJs8u-u5k48"
   },
   "outputs": [],
   "source": [
    "X = np.array([[0,0,1,1],[0,1,0,1]]) # 2x4\n",
    "y = np.array([[0,1,1,0]])           # 1x4"
   ]
  },
  {
   "cell_type": "markdown",
   "metadata": {
    "id": "K-QVuIvt2SPK"
   },
   "source": [
    "## Functions"
   ]
  },
  {
   "cell_type": "code",
   "execution_count": 11,
   "metadata": {
    "executionInfo": {
     "elapsed": 270,
     "status": "ok",
     "timestamp": 1732192097231,
     "user": {
      "displayName": "신희권",
      "userId": "16285237679427901345"
     },
     "user_tz": -540
    },
    "id": "6pjy8P8a5oI2"
   },
   "outputs": [],
   "source": [
    "def sigmoid(z):\n",
    "  # IMPLEMENT HERE\n",
    "  z = 1 / (1 + np.exp(-z))\n",
    "  return z\n",
    "\n",
    "def forward_prop(w1, w2, b1, b2, x):\n",
    "  # IMPLEMENT HERE\n",
    "  z1 = w1 @ x + b1\n",
    "  h1 = sigmoid(z1)\n",
    "\n",
    "  z2 = w2 @ h1 + b2\n",
    "  y_hat = sigmoid(z2)\n",
    "\n",
    "  return z1, h1, z2, y_hat\n",
    "\n",
    "def back_prop(m,w1,w2,z1,h1,z2,y_hat,x,y):\n",
    "  # IMPLEMENT HERE\n",
    "  dz2 = y_hat - y\n",
    "  dw2 = dz2 @ h1.T\n",
    "  db2 = dz2 @ np.ones((m,1))\n",
    "\n",
    "  dz1 = w2.T @ dz2 * h1 * (1 - h1)\n",
    "  dw1 = dz1 @ x.T\n",
    "  db1 = dz1 @ np.ones((m,1))\n",
    "\n",
    "  return dw1, db1, dw2, db2"
   ]
  },
  {
   "cell_type": "markdown",
   "metadata": {
    "id": "ccpvi1ZR2Ux0"
   },
   "source": [
    "## Define and Initialize weights"
   ]
  },
  {
   "cell_type": "code",
   "execution_count": null,
   "metadata": {
    "executionInfo": {
     "elapsed": 255,
     "status": "ok",
     "timestamp": 1732192098866,
     "user": {
      "displayName": "신희권",
      "userId": "16285237679427901345"
     },
     "user_tz": -540
    },
    "id": "ukgXbX-uZ0ej"
   },
   "outputs": [],
   "source": [
    "## Initialize weights\n",
    "n_x = 2 # inputs\n",
    "n_y = 1 # outputs\n",
    "n_h = 2 # hidden layer\n",
    "\n",
    "w1 = np.random.rand(n_h, n_x)\n",
    "w2 = np.random.rand(n_y, n_h)\n",
    "b1 = np.random.rand(2, 1)\n",
    "b2 = np.random.rand(1, 1)"
   ]
  },
  {
   "cell_type": "markdown",
   "metadata": {
    "id": "pr57QjKJ2ZI3"
   },
   "source": [
    "## Learning"
   ]
  },
  {
   "cell_type": "code",
   "execution_count": 16,
   "metadata": {
    "colab": {
     "base_uri": "https://localhost:8080/",
     "height": 651
    },
    "executionInfo": {
     "elapsed": 1385,
     "status": "ok",
     "timestamp": 1732192380372,
     "user": {
      "displayName": "신희권",
      "userId": "16285237679427901345"
     },
     "user_tz": -540
    },
    "id": "aw9VfVBB2aEJ",
    "outputId": "dcda913e-eab5-400b-de9d-b66e516d8717"
   },
   "outputs": [
    {
     "name": "stderr",
     "output_type": "stream",
     "text": [
      "<ipython-input-11-30b83c278b5f>:3: RuntimeWarning: overflow encountered in exp\n",
      "  z = 1 / (1 + np.exp(-z))\n",
      "<ipython-input-16-118751bf2069>:10: RuntimeWarning: divide by zero encountered in log\n",
      "  loss = -(1/m)*np.sum(y*np.log(y_hat) + (1-y)*np.log(1-y_hat))\n",
      "<ipython-input-16-118751bf2069>:10: RuntimeWarning: invalid value encountered in multiply\n",
      "  loss = -(1/m)*np.sum(y*np.log(y_hat) + (1-y)*np.log(1-y_hat))\n"
     ]
    },
    {
     "name": "stdout",
     "output_type": "stream",
     "text": [
      "w1: [ -9.68090688 -21.27017261   0.38806875   1.27233727]\n",
      "w2: [-834.78391842    1.09126311]\n",
      "b1: [-20.24710682  12.14722112]\n",
      "b2: [-1.09125936]\n",
      "loss: 0.6931468451077863\n"
     ]
    },
    {
     "data": {
      "image/png": "[encoded data removed]",
      "text/plain": [
       "<Figure size 640x480 with 1 Axes>"
      ]
     },
     "metadata": {},
     "output_type": "display_data"
    }
   ],
   "source": [
    "iterations = 10000\n",
    "losses = []\n",
    "m = y.shape[1]      # # of data set\n",
    "lr = 0.1            # Learning rate\n",
    "\n",
    "for i in range(iterations):\n",
    "    # IMPLEMENT HERE\n",
    "    z1, a1, z2, y_hat = forward_prop(w1, w2, b1, b2, X)\n",
    "\n",
    "    loss = -(1/m)*np.sum(y*np.log(y_hat) + (1-y)*np.log(1-y_hat))\n",
    "    losses.append(loss)\n",
    "\n",
    "    dw1, db1, dw2, db2 = back_prop(m,w1,w2,z1,a1,z2,y_hat,X,y)\n",
    "\n",
    "    w2 = w2 - lr * dw2\n",
    "    w1 = w1 - lr * dw1\n",
    "    b2 = b2 - lr * db2\n",
    "    b1 = b1 - lr * db1\n",
    "\n",
    "print(f'w1: {w1.flatten()}')\n",
    "print(f'w2: {w2.flatten()}')\n",
    "print(f'b1: {b1.flatten()}')\n",
    "print(f'b2: {b2.flatten()}')\n",
    "print(f'loss: {losses[-1]}')\n",
    "\n",
    "# plot losses to see how our network is doing\n",
    "plt.plot(losses)\n",
    "plt.xlabel(\"EPOCHS\")\n",
    "plt.ylabel(\"Loss value\")\n",
    "plt.show()"
   ]
  },
  {
   "cell_type": "markdown",
   "metadata": {
    "id": "Z_KUoa4xt45p"
   },
   "source": [
    "## Predict"
   ]
  },
  {
   "cell_type": "code",
   "execution_count": 9,
   "metadata": {
    "colab": {
     "base_uri": "https://localhost:8080/"
    },
    "executionInfo": {
     "elapsed": 296,
     "status": "ok",
     "timestamp": 1732192051075,
     "user": {
      "displayName": "신희권",
      "userId": "16285237679427901345"
     },
     "user_tz": -540
    },
    "id": "fA-31IjC8GV_",
    "outputId": "8620efcf-57c4-4fce-e9fd-9db5da7b39bf"
   },
   "outputs": [
    {
     "name": "stdout",
     "output_type": "stream",
     "text": [
      "[0 0] => 1\n",
      "[0 1] => 1\n",
      "[1 0] => 1\n",
      "[1 1] => 1\n"
     ]
    }
   ],
   "source": [
    "## Predict\n",
    "def predict(w1,w2, b1, b2, input):\n",
    "    z1, a1, z2, a2 = forward_prop(w1, w2, b1, b2, input)\n",
    "    a2 = np.squeeze(a2)\n",
    "\n",
    "    if a2 <= 0.5:\n",
    "        return 0\n",
    "    else:\n",
    "        return 1\n",
    "\n",
    "for x in X.T:\n",
    "    print(f'{x} => {predict(w1, w2, b1, b2, x.reshape(2,1))}')"
   ]
  },
  {
   "cell_type": "code",
   "execution_count": 10,
   "metadata": {
    "colab": {
     "base_uri": "https://localhost:8080/",
     "height": 430
    },
    "executionInfo": {
     "elapsed": 4278,
     "status": "ok",
     "timestamp": 1732192057177,
     "user": {
      "displayName": "신희권",
      "userId": "16285237679427901345"
     },
     "user_tz": -540
    },
    "id": "j72wsGFprF4U",
    "outputId": "8c302a6a-1b99-44f6-af34-6a3fcce624c0"
   },
   "outputs": [
    {
     "data": {
      "image/png": "[encoded data removed]",
      "text/plain": [
       "<Figure size 640x480 with 1 Axes>"
      ]
     },
     "metadata": {},
     "output_type": "display_data"
    }
   ],
   "source": [
    "color = ['red', 'blue']\n",
    "for x0 in np.arange(0, 1, 0.05):\n",
    "    for x1 in np.arange(0, 1, 0.05):\n",
    "        x = np.array([x0, x1])\n",
    "        y_hat_cls = predict(w1, w2, b1, b2, x.reshape(2,1))\n",
    "        plt.scatter(x0, x1, c=color[y_hat_cls], alpha=0.5)\n",
    "\n",
    "plt.show()"
   ]
  }
 ],
 "metadata": {
  "colab": {
   "provenance": []
  },
  "kernelspec": {
   "display_name": "Python 3",
   "name": "python3"
  },
  "language_info": {
   "name": "python"
  }
 },
 "nbformat": 4,
 "nbformat_minor": 0
}
