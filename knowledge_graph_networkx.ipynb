{
 "cells": [
  {
   "cell_type": "code",
   "execution_count": null,
   "id": "690a83fd",
   "metadata": {},
   "outputs": [],
   "source": [
    "import networkx as nx\n",
    "import pydot\n",
    "g1 = nx.DiGraph() # 방향 그래프 (directed graph)\n",
    "g1.add_node('a') #노드 추가\n",
    "g1.add_node(1)\n",
    "g1.add_node('b')\n",
    "print('Node: ', g1.nodes())\n",
    "g1.add_edge(1,'a')  #에지 추가\n",
    "g1.add_edge(1,'b')\n",
    "print('Edges: ', g1.edges())\n",
    "\n",
    "from IPython.core.display import Image\n",
    "from networkx.drawing.nx_pydot import to_pydot\n",
    "d1 = to_pydot(g1)\n",
    "d1.set_dpi(400)\n",
    "d1.set_rankdir('LR')\n",
    "d1.set_margin(1)\n",
    "Image(d1.create_png(),width=300)"
   ]
  },
  {
   "cell_type": "code",
   "execution_count": null,
   "id": "92b9a855",
   "metadata": {},
   "outputs": [],
   "source": []
  },
  {
   "cell_type": "code",
   "execution_count": null,
   "id": "1b56a114",
   "metadata": {},
   "outputs": [],
   "source": []
  }
 ],
 "metadata": {
  "kernelspec": {
   "display_name": "Python 3 (ipykernel)",
   "language": "python",
   "name": "python3"
  },
  "language_info": {
   "codemirror_mode": {
    "name": "ipython",
    "version": 3
   },
   "file_extension": ".py",
   "mimetype": "text/x-python",
   "name": "python",
   "nbconvert_exporter": "python",
   "pygments_lexer": "ipython3",
   "version": "3.11.5"
  }
 },
 "nbformat": 4,
 "nbformat_minor": 5
}
