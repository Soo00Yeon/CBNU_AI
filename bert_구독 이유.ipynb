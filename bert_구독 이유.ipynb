{
 "cells": [
  {
   "cell_type": "code",
   "execution_count": null,
   "id": "f0eda2cc",
   "metadata": {},
   "outputs": [],
   "source": []
  },
  {
   "cell_type": "code",
   "execution_count": 3,
   "id": "31ba591e",
   "metadata": {},
   "outputs": [
    {
     "name": "stderr",
     "output_type": "stream",
     "text": [
      "C:\\Users\\user\\anaconda3\\Lib\\site-packages\\huggingface_hub\\file_download.py:943: FutureWarning: `resume_download` is deprecated and will be removed in version 1.0.0. Downloads always resume when possible. If you want to force a new download, use `force_download=True`.\n",
      "  warnings.warn(\n",
      "Xet Storage is enabled for this repo, but the 'hf_xet' package is not installed. Falling back to regular HTTP download. For better performance, install the package with: `pip install huggingface_hub[hf_xet]` or `pip install hf_xet`\n"
     ]
    },
    {
     "data": {
      "application/vnd.jupyter.widget-view+json": {
       "model_id": "e7439ddb980f43bfba96851fc269493e",
       "version_major": 2,
       "version_minor": 0
      },
      "text/plain": [
       "model.safetensors:   0%|          | 0.00/714M [00:00<?, ?B/s]"
      ]
     },
     "metadata": {},
     "output_type": "display_data"
    },
    {
     "name": "stderr",
     "output_type": "stream",
     "text": [
      "Some weights of BertForSequenceClassification were not initialized from the model checkpoint at bert-base-multilingual-cased and are newly initialized: ['classifier.bias', 'classifier.weight']\n",
      "You should probably TRAIN this model on a down-stream task to be able to use it for predictions and inference.\n"
     ]
    },
    {
     "name": "stdout",
     "output_type": "stream",
     "text": [
      "Epoch 1: Train Loss = 0.2790, Val Loss = 0.0505, Val Acc = 1.0000\n",
      "Best model saved.\n",
      "Epoch 2: Train Loss = 0.0334, Val Loss = 0.0138, Val Acc = 1.0000\n",
      "Best model saved.\n",
      "Epoch 3: Train Loss = 0.0171, Val Loss = 0.0075, Val Acc = 1.0000\n",
      "Best model saved.\n",
      "Epoch 4: Train Loss = 0.0101, Val Loss = 0.0052, Val Acc = 1.0000\n",
      "Best model saved.\n",
      "Epoch 5: Train Loss = 0.0062, Val Loss = 0.0040, Val Acc = 1.0000\n",
      "Best model saved.\n",
      "Test Loss: 0.0040\n",
      "Test Accuracy: 1.0000\n"
     ]
    }
   ],
   "source": [
    "import pandas as pd\n",
    "import numpy as np\n",
    "import torch\n",
    "from torch.utils.data import TensorDataset, DataLoader, RandomSampler, SequentialSampler\n",
    "from transformers import BertTokenizer, BertForSequenceClassification\n",
    "from torch import optim, nn\n",
    "\n",
    "# 하이퍼파라미터 및 환경 설정\n",
    "epochs = 5\n",
    "batch_size = 16\n",
    "device = \"cuda\" if torch.cuda.is_available() else \"cpu\"\n",
    "\n",
    "# 엑셀 데이터 불러오기\n",
    "excel_path = \"대학생의 디지털 구독 서비스 관련 인식조사 데이터 정리_2024.04.18(구분).xlsx\"\n",
    "df = pd.read_excel(excel_path, sheet_name=\"응답정보(항목)\")\n",
    "\n",
    "# 텍스트 전처리\n",
    "text_df = df[[\"다양한 구독서비스 이용 이유\"]].dropna()\n",
    "text_df = text_df[text_df[\"다양한 구독서비스 이용 이유\"].str.strip() != \"\"].copy()\n",
    "text_df.rename(columns={\"다양한 구독서비스 이용 이유\": \"text\"}, inplace=True)\n",
    "text_df[\"label\"] = 1  # 더미 라벨\n",
    "\n",
    "# 데이터 분할\n",
    "text_df = text_df.sample(frac=1, random_state=42).reset_index(drop=True)\n",
    "train_df, valid_df, test_df = np.split(text_df, [int(0.6 * len(text_df)), int(0.8 * len(text_df))])\n",
    "\n",
    "# BERT 토크나이저 초기화\n",
    "tokenizer = BertTokenizer.from_pretrained(\"bert-base-multilingual-cased\", do_lower_case=False)\n",
    "\n",
    "# 텐서 데이터셋 생성\n",
    "def make_dataset(df, tokenizer, device):\n",
    "    if not isinstance(df, pd.DataFrame):\n",
    "        raise TypeError(\"입력은 pandas DataFrame이어야 합니다.\")\n",
    "    if \"text\" not in df.columns or \"label\" not in df.columns:\n",
    "        raise ValueError(\"DataFrame에 'text' 또는 'label' 열이 없습니다.\")\n",
    "    \n",
    "    tokenized = tokenizer(\n",
    "        text=df[\"text\"].tolist(),\n",
    "        padding=\"longest\",\n",
    "        truncation=True,\n",
    "        return_tensors=\"pt\"\n",
    "    )\n",
    "    input_ids = tokenized[\"input_ids\"].to(device)\n",
    "    attention_mask = tokenized[\"attention_mask\"].to(device)\n",
    "    labels = torch.tensor(df[\"label\"].values, dtype=torch.long).to(device)\n",
    "    return TensorDataset(input_ids, attention_mask, labels)\n",
    "\n",
    "# 데이터로더 생성\n",
    "def get_dataloader(dataset, sampler, batch_size):\n",
    "    return DataLoader(dataset, sampler=sampler(dataset), batch_size=batch_size)\n",
    "\n",
    "# 정확도 계산\n",
    "def calc_accuracy(preds, labels):\n",
    "    pred_flat = torch.argmax(preds, dim=1).flatten()\n",
    "    labels_flat = labels.flatten()\n",
    "    return (pred_flat == labels_flat).cpu().numpy().mean()\n",
    "\n",
    "# 학습 함수\n",
    "def train(model, optimizer, dataloader):\n",
    "    model.train()\n",
    "    total_loss = 0.0\n",
    "    for input_ids, attention_mask, labels in dataloader:\n",
    "        outputs = model(input_ids=input_ids, attention_mask=attention_mask, labels=labels)\n",
    "        loss = outputs.loss\n",
    "        total_loss += loss.item()\n",
    "        optimizer.zero_grad()\n",
    "        loss.backward()\n",
    "        optimizer.step()\n",
    "    return total_loss / len(dataloader)\n",
    "\n",
    "# 평가 함수\n",
    "def evaluation(model, dataloader):\n",
    "    model.eval()\n",
    "    total_loss, total_accuracy = 0.0, 0.0\n",
    "    criterion = nn.CrossEntropyLoss()\n",
    "    with torch.no_grad():\n",
    "        for input_ids, attention_mask, labels in dataloader:\n",
    "            outputs = model(input_ids=input_ids, attention_mask=attention_mask, labels=labels)\n",
    "            logits = outputs.logits\n",
    "            loss = criterion(logits, labels)\n",
    "            total_loss += loss.item()\n",
    "            total_accuracy += calc_accuracy(logits, labels)\n",
    "    return total_loss / len(dataloader), total_accuracy / len(dataloader)\n",
    "\n",
    "# 데이터셋 및 데이터로더 생성\n",
    "train_dataset = make_dataset(train_df, tokenizer, device)\n",
    "valid_dataset = make_dataset(valid_df, tokenizer, device)\n",
    "test_dataset = make_dataset(test_df, tokenizer, device)\n",
    "\n",
    "train_loader = get_dataloader(train_dataset, RandomSampler, batch_size)\n",
    "valid_loader = get_dataloader(valid_dataset, SequentialSampler, batch_size)\n",
    "test_loader = get_dataloader(test_dataset, SequentialSampler, batch_size)\n",
    "\n",
    "# 모델 선언\n",
    "model = BertForSequenceClassification.from_pretrained(\n",
    "    \"bert-base-multilingual-cased\",\n",
    "    num_labels=2\n",
    ").to(device)\n",
    "\n",
    "optimizer = optim.AdamW(model.parameters(), lr=1e-5, eps=1e-8)\n",
    "\n",
    "# 학습 루프\n",
    "best_loss = float(\"inf\")\n",
    "for epoch in range(epochs):\n",
    "    train_loss = train(model, optimizer, train_loader)\n",
    "    val_loss, val_acc = evaluation(model, valid_loader)\n",
    "    print(f\"Epoch {epoch + 1}: Train Loss = {train_loss:.4f}, Val Loss = {val_loss:.4f}, Val Acc = {val_acc:.4f}\")\n",
    "    if val_loss < best_loss:\n",
    "        best_loss = val_loss\n",
    "        torch.save(model.state_dict(), \"best_bert_model.pt\")\n",
    "        print(\"Best model saved.\")\n",
    "\n",
    "# 테스트 평가\n",
    "model.load_state_dict(torch.load(\"best_bert_model.pt\"))\n",
    "test_loss, test_acc = evaluation(model, test_loader)\n",
    "print(f\"Test Loss: {test_loss:.4f}\")\n",
    "print(f\"Test Accuracy: {test_acc:.4f}\")\n"
   ]
  },
  {
   "cell_type": "code",
   "execution_count": null,
   "id": "e6f7eb05",
   "metadata": {},
   "outputs": [],
   "source": []
  }
 ],
 "metadata": {
  "kernelspec": {
   "display_name": "Python 3 (ipykernel)",
   "language": "python",
   "name": "python3"
  },
  "language_info": {
   "codemirror_mode": {
    "name": "ipython",
    "version": 3
   },
   "file_extension": ".py",
   "mimetype": "text/x-python",
   "name": "python",
   "nbconvert_exporter": "python",
   "pygments_lexer": "ipython3",
   "version": "3.11.5"
  }
 },
 "nbformat": 4,
 "nbformat_minor": 5
}
