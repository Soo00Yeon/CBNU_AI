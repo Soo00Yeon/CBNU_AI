{
 "cells": [
  {
   "cell_type": "markdown",
   "metadata": {
    "id": "P6GhOWUba1NZ"
   },
   "source": [
    "# Digit Number"
   ]
  },
  {
   "cell_type": "code",
   "execution_count": 1,
   "metadata": {
    "id": "6Iv6u4Wk4_bY"
   },
   "outputs": [],
   "source": [
    "import matplotlib.pyplot as plt\n",
    "from sklearn.metrics import accuracy_score\n",
    "from sklearn.preprocessing import OneHotEncoder\n",
    "from sklearn.model_selection import train_test_split\n",
    "from sklearn.preprocessing import StandardScaler\n",
    "from sklearn.datasets import fetch_openml\n",
    "import numpy as np\n",
    "\n",
    "np.random.seed(4)"
   ]
  },
  {
   "cell_type": "markdown",
   "metadata": {
    "id": "7PAi408Xd_kZ"
   },
   "source": [
    "## Dataset"
   ]
  },
  {
   "cell_type": "code",
   "execution_count": 2,
   "metadata": {
    "id": "YS8oMn9zd7zw"
   },
   "outputs": [
    {
     "name": "stderr",
     "output_type": "stream",
     "text": [
      "C:\\Users\\user\\anaconda3\\Lib\\site-packages\\sklearn\\datasets\\_openml.py:1002: FutureWarning: The default value of `parser` will change from `'liac-arff'` to `'auto'` in 1.4. You can set `parser='auto'` to silence this warning. Therefore, an `ImportError` will be raised from 1.4 if the dataset is dense and pandas is not installed. Note that the pandas parser may return different data types. See the Notes Section in fetch_openml's API doc for details.\n",
      "  warn(\n"
     ]
    }
   ],
   "source": [
    "\n",
    "mnist = fetch_openml('mnist_784')\n",
    "X, y = mnist['data'].to_numpy(), mnist['target'].to_numpy().astype(int)\n"
   ]
  },
  {
   "cell_type": "code",
   "execution_count": 3,
   "metadata": {
    "id": "cs_aC5Bh4zAt"
   },
   "outputs": [
    {
     "data": {
      "image/png": "[encoded data removed]",
      "text/plain": [
       "<Figure size 640x480 with 5 Axes>"
      ]
     },
     "metadata": {},
     "output_type": "display_data"
    }
   ],
   "source": [
    "# show\n",
    "num_imgs = 5\n",
    "fig, axes = plt.subplots(1, num_imgs)\n",
    "for i in range(num_imgs):\n",
    "    axes[i].imshow(X[i].reshape(28,28))\n",
    "    axes[i].set_title(f\"Label: {y[i]}\")\n",
    "    axes[i].axis('off')\n",
    "plt.show()"
   ]
  },
  {
   "cell_type": "markdown",
   "metadata": {
    "id": "9tKcQJjUlDCX"
   },
   "source": [
    "## Pre-Processing"
   ]
  },
  {
   "cell_type": "code",
   "execution_count": 4,
   "metadata": {
    "id": "jxdpDlEnkx_H"
   },
   "outputs": [],
   "source": [
    "y_ohe = OneHotEncoder().fit_transform(y.reshape(-1,1)).toarray()\n",
    "X_train, X_test, y_train, y_test = train_test_split(X, y_ohe, test_size=0.2, random_state=12)\n",
    "\n",
    "scaler = StandardScaler()\n",
    "X_train = scaler.fit_transform(X_train)\n",
    "X_test = scaler.transform(X_test)"
   ]
  },
  {
   "cell_type": "code",
   "execution_count": 5,
   "metadata": {
    "id": "87FwCJNFkMWb"
   },
   "outputs": [],
   "source": [
    "def sigmoid(x):\n",
    "    x = np.clip(x, -100, 100)\n",
    "    return 1 / (1 + np.exp(-x))\n",
    "\n",
    "def sigmoid_prime(x):\n",
    "    return x * (1 - x)"
   ]
  },
  {
   "cell_type": "code",
   "execution_count": 6,
   "metadata": {
    "id": "rhIX8itugeJe"
   },
   "outputs": [],
   "source": [
    "def forward_prop(w1, w2, b1, b2, x):\n",
    "    # IMPLEMENT HERE\n",
    "    pass\n",
    "\n",
    "def back_prop(m,w1,w2,z1,h1,z2,y_hat,x,y):\n",
    "    # IMPLEMENT HERE\n",
    "    pass"
   ]
  },
  {
   "cell_type": "markdown",
   "metadata": {
    "id": "W6AjsiVxCFOY"
   },
   "source": [
    "## Initialization"
   ]
  },
  {
   "cell_type": "code",
   "execution_count": 7,
   "metadata": {
    "id": "MRuOgHJW5ptZ"
   },
   "outputs": [],
   "source": [
    "## Initialize weights\n",
    "n_x = X_train.shape[1]\n",
    "n_y = y_train.shape[1]\n",
    "n_h = 100\n",
    "\n",
    "w1 = np.random.rand(n_x, n_h) - 0.5\n",
    "w2 = np.random.rand(n_h, n_y) - 0.5\n",
    "b1 = np.random.rand(1, n_h) - 0.5\n",
    "b2 = np.random.rand(1, n_y) - 0.5"
   ]
  },
  {
   "cell_type": "markdown",
   "metadata": {
    "id": "qEMhX4QoCMwT"
   },
   "source": [
    "## Main Loop"
   ]
  },
  {
   "cell_type": "code",
   "execution_count": 21,
   "metadata": {
    "colab": {
     "base_uri": "https://localhost:8080/",
     "height": 373
    },
    "id": "So0G9TCdge6Z",
    "outputId": "5f0151e0-557a-4c5b-9a70-aab52eac736a"
   },
   "outputs": [
    {
     "name": "stdout",
     "output_type": "stream",
     "text": [
      "Epoch 1/30, Loss: 6.5749\n",
      "Epoch 2/30, Loss: 6.4596\n",
      "Epoch 3/30, Loss: 6.3490\n",
      "Epoch 4/30, Loss: 6.2429\n",
      "Epoch 5/30, Loss: 6.1409\n",
      "Epoch 6/30, Loss: 6.0429\n",
      "Epoch 7/30, Loss: 5.9485\n",
      "Epoch 8/30, Loss: 5.8577\n",
      "Epoch 9/30, Loss: 5.7701\n",
      "Epoch 10/30, Loss: 5.6855\n",
      "Epoch 11/30, Loss: 5.6040\n",
      "Epoch 12/30, Loss: 5.5251\n",
      "Epoch 13/30, Loss: 5.4490\n",
      "Epoch 14/30, Loss: 5.3752\n",
      "Epoch 15/30, Loss: 5.3039\n",
      "Epoch 16/30, Loss: 5.2347\n",
      "Epoch 17/30, Loss: 5.1676\n",
      "Epoch 18/30, Loss: 5.1025\n",
      "Epoch 19/30, Loss: 5.0393\n",
      "Epoch 20/30, Loss: 4.9779\n",
      "Epoch 21/30, Loss: 4.9182\n",
      "Epoch 22/30, Loss: 4.8602\n",
      "Epoch 23/30, Loss: 4.8037\n",
      "Epoch 24/30, Loss: 4.7487\n",
      "Epoch 25/30, Loss: 4.6952\n",
      "Epoch 26/30, Loss: 4.6430\n",
      "Epoch 27/30, Loss: 4.5922\n",
      "Epoch 28/30, Loss: 4.5426\n",
      "Epoch 29/30, Loss: 4.4943\n",
      "Epoch 30/30, Loss: 4.4473\n"
     ]
    }
   ],
   "source": [
    "epoch = 30\n",
    "losses = []\n",
    "lr = 0.01  # Learning rate\n",
    "m = X_train.shape[0]\n",
    "\n",
    "# Training loop\n",
    "for i in range(epoch):\n",
    "    # Forward propagation\n",
    "    z1 = np.dot(X_train, w1) + b1\n",
    "    a1 = np.maximum(0, z1)  # ReLU activation\n",
    "    z2 = np.dot(a1, w2) + b2\n",
    "    y_hat = np.exp(z2) / np.sum(np.exp(z2), axis=1, keepdims=True)  # Softmax activation\n",
    "\n",
    "    # Loss calculation (multi-class cross-entropy)\n",
    "    loss = -(1 / m) * np.sum(y_train * np.log(y_hat + 1e-10))\n",
    "    losses.append(loss)\n",
    "\n",
    "    # Backward propagation\n",
    "    dz2 = y_hat - y_train\n",
    "    dw2 = (1 / m) * np.dot(a1.T, dz2)\n",
    "    db2 = (1 / m) * np.sum(dz2, axis=0, keepdims=True)\n",
    "    da1 = np.dot(dz2, w2.T)\n",
    "    dz1 = da1 * (z1 > 0)  # Derivative of ReLU\n",
    "    dw1 = (1 / m) * np.dot(X_train.T, dz1)\n",
    "    db1 = (1 / m) * np.sum(dz1, axis=0, keepdims=True)\n",
    "\n",
    "    # Update weights and biases\n",
    "    w1 -= lr * dw1\n",
    "    b1 -= lr * db1\n",
    "    w2 -= lr * dw2\n",
    "    b2 -= lr * db2\n",
    "\n",
    "    # Print loss\n",
    "    print(f'Epoch {i + 1}/{epoch}, Loss: {loss:.4f}')\n"
   ]
  },
  {
   "cell_type": "code",
   "execution_count": 20,
   "metadata": {},
   "outputs": [
    {
     "ename": "TypeError",
     "evalue": "cannot unpack non-iterable NoneType object",
     "output_type": "error",
     "traceback": [
      "\u001b[1;31m---------------------------------------------------------------------------\u001b[0m",
      "\u001b[1;31mTypeError\u001b[0m                                 Traceback (most recent call last)",
      "Cell \u001b[1;32mIn[20], line 14\u001b[0m\n\u001b[0;32m     10\u001b[0m \u001b[38;5;66;03m# Training loop\u001b[39;00m\n\u001b[0;32m     11\u001b[0m \u001b[38;5;28;01mfor\u001b[39;00m i \u001b[38;5;129;01min\u001b[39;00m \u001b[38;5;28mrange\u001b[39m(epoch):\n\u001b[0;32m     12\u001b[0m     \u001b[38;5;66;03m# Forward propagation\u001b[39;00m\n\u001b[1;32m---> 14\u001b[0m     z1,a1,z2,y_hat \u001b[38;5;241m=\u001b[39m forward_prop(w1,w2,b1,b2,X_train)\n\u001b[0;32m     16\u001b[0m     \u001b[38;5;66;03m# Loss calculation (multi-class cross-entropy)\u001b[39;00m\n\u001b[0;32m     17\u001b[0m     loss \u001b[38;5;241m=\u001b[39m \u001b[38;5;241m-\u001b[39m(\u001b[38;5;241m1\u001b[39m \u001b[38;5;241m/\u001b[39m m) \u001b[38;5;241m*\u001b[39m np\u001b[38;5;241m.\u001b[39msum(y_train \u001b[38;5;241m*\u001b[39m np\u001b[38;5;241m.\u001b[39mlog(y_hat \u001b[38;5;241m+\u001b[39m \u001b[38;5;241m1e-10\u001b[39m))\n",
      "\u001b[1;31mTypeError\u001b[0m: cannot unpack non-iterable NoneType object"
     ]
    }
   ],
   "source": []
  },
  {
   "cell_type": "markdown",
   "metadata": {
    "id": "-fKPh-a5whzB"
   },
   "source": [
    "## Loss"
   ]
  },
  {
   "cell_type": "code",
   "execution_count": 17,
   "metadata": {
    "id": "h7Bt2MnTwhTT"
   },
   "outputs": [
    {
     "data": {
      "image/png": "[encoded data removed]",
      "text/plain": [
       "<Figure size 640x480 with 1 Axes>"
      ]
     },
     "metadata": {},
     "output_type": "display_data"
    }
   ],
   "source": [
    "plt.plot(losses)\n",
    "plt.xlabel(\"EPOCHS\")\n",
    "plt.ylabel(\"Loss value\")\n",
    "plt.show()"
   ]
  },
  {
   "cell_type": "markdown",
   "metadata": {
    "id": "XeDHob_RjIGp"
   },
   "source": [
    "## Accuracy"
   ]
  },
  {
   "cell_type": "code",
   "execution_count": 22,
   "metadata": {
    "id": "XD0wfritjF1s"
   },
   "outputs": [
    {
     "ename": "TypeError",
     "evalue": "cannot unpack non-iterable NoneType object",
     "output_type": "error",
     "traceback": [
      "\u001b[1;31m---------------------------------------------------------------------------\u001b[0m",
      "\u001b[1;31mTypeError\u001b[0m                                 Traceback (most recent call last)",
      "Cell \u001b[1;32mIn[22], line 1\u001b[0m\n\u001b[1;32m----> 1\u001b[0m _, _, _, y_test_hat \u001b[38;5;241m=\u001b[39m forward_prop(w1, w2, b1, b2, X_test)\n\u001b[0;32m      2\u001b[0m y_test_hat_true \u001b[38;5;241m=\u001b[39m np\u001b[38;5;241m.\u001b[39margmax(y_test_hat, axis\u001b[38;5;241m=\u001b[39m\u001b[38;5;241m1\u001b[39m)\n\u001b[0;32m      3\u001b[0m accuracy \u001b[38;5;241m=\u001b[39m accuracy_score(y_test_true, y_test_hat_true)\n",
      "\u001b[1;31mTypeError\u001b[0m: cannot unpack non-iterable NoneType object"
     ]
    }
   ],
   "source": [
    "_, _, _, y_test_hat = forward_prop(w1, w2, b1, b2, X_test)\n",
    "y_test_hat_true = np.argmax(y_test_hat, axis=1)\n",
    "accuracy = accuracy_score(y_test_true, y_test_hat_true)\n",
    "print(f'loss: {loss:.2f}, acc: {accuracy:.2f}')"
   ]
  },
  {
   "cell_type": "code",
   "execution_count": null,
   "metadata": {},
   "outputs": [],
   "source": []
  }
 ],
 "metadata": {
  "colab": {
   "provenance": []
  },
  "kernelspec": {
   "display_name": "Python 3 (ipykernel)",
   "language": "python",
   "name": "python3"
  },
  "language_info": {
   "codemirror_mode": {
    "name": "ipython",
    "version": 3
   },
   "file_extension": ".py",
   "mimetype": "text/x-python",
   "name": "python",
   "nbconvert_exporter": "python",
   "pygments_lexer": "ipython3",
   "version": "3.11.5"
  }
 },
 "nbformat": 4,
 "nbformat_minor": 1
}
