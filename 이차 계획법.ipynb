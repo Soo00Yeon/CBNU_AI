{
 "cells": [
  {
   "cell_type": "code",
   "execution_count": 4,
   "id": "efd993af",
   "metadata": {},
   "outputs": [
    {
     "name": "stdout",
     "output_type": "stream",
     "text": [
      "     pcost       dcost       gap    pres   dres\n",
      " 0:  2.5694e-01  4.5139e-01  2e+00  2e+00  1e+00\n",
      " 1:  4.0709e-01  2.8962e-01  1e-01  2e-02  1e-02\n",
      " 2:  3.2398e-01  3.1201e-01  1e-02  2e-04  1e-04\n",
      " 3:  3.1273e-01  3.1250e-01  2e-04  2e-06  1e-06\n",
      " 4:  3.1250e-01  3.1250e-01  2e-06  2e-08  1e-08\n",
      " 5:  3.1250e-01  3.1250e-01  2e-08  2e-10  1e-10\n",
      "Optimal solution found.\n",
      "해\n",
      " x_1 =  0.24999995392895172\n",
      " x_2 =  0.7500000460710483\n"
     ]
    }
   ],
   "source": [
    "from cvxopt import matrix, solvers\n",
    "\n",
    "H = 2*matrix([[1/2.,0.],[0.,1/2]])\n",
    "f = matrix([0.0,0.0])\n",
    "A = matrix([[0.0,0.0],[0.0,-1.0]])\n",
    "a = matrix([0.0,-3/4.0])\n",
    "B = matrix([1.0,1.0],(1,2))\n",
    "b = matrix(1.0)\n",
    "\n",
    "sol = solvers.qp(H,f,A,a,B,b)\n",
    "print('해\\n', 'x_1 = ',sol['x'][0])\n",
    "print(' x_2 = ', sol['x'][1])"
   ]
  },
  {
   "cell_type": "code",
   "execution_count": 3,
   "id": "82a9b109",
   "metadata": {},
   "outputs": [
    {
     "name": "stdout",
     "output_type": "stream",
     "text": [
      "Requirement already satisfied: cvxopt in c:\\users\\user\\anaconda3\\lib\\site-packages (1.3.2)\n"
     ]
    }
   ],
   "source": [
    "!pip install cvxopt"
   ]
  },
  {
   "cell_type": "code",
   "execution_count": null,
   "id": "b9131a76",
   "metadata": {},
   "outputs": [],
   "source": []
  }
 ],
 "metadata": {
  "kernelspec": {
   "display_name": "Python 3 (ipykernel)",
   "language": "python",
   "name": "python3"
  },
  "language_info": {
   "codemirror_mode": {
    "name": "ipython",
    "version": 3
   },
   "file_extension": ".py",
   "mimetype": "text/x-python",
   "name": "python",
   "nbconvert_exporter": "python",
   "pygments_lexer": "ipython3",
   "version": "3.11.5"
  }
 },
 "nbformat": 4,
 "nbformat_minor": 5
}
