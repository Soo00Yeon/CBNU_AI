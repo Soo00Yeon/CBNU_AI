{
 "cells": [
  {
   "cell_type": "code",
   "execution_count": 1,
   "id": "c81211b5",
   "metadata": {},
   "outputs": [
    {
     "name": "stdout",
     "output_type": "stream",
     "text": [
      "Fact: Kermit eats flies\n",
      "Fact: Kermit lives water\n",
      "Fact: Greedy eats flies\n",
      "Fact: Greedy lives land\n",
      "Fact: Tweety is black\n",
      "Fact: Tweety is bird\n",
      "Fact: Tweety eats worms\n"
     ]
    },
    {
     "data": {
      "text/plain": [
       "{'sid': '0', 'id': 'sid-0', '$s': 1}"
      ]
     },
     "execution_count": 1,
     "metadata": {},
     "output_type": "execute_result"
    }
   ],
   "source": [
    "from durable.lang import *\n",
    "\n",
    "with ruleset('animal') :\n",
    "\n",
    "    @when_all(c.first<<(m.predicate=='eats')&(m.object=='files'), #<<해당 조건을 만족하는 대상 지시하는 이름 \n",
    "              (m.predicate=='lives')&(m.object=='water')&(m.subject==c.first.subject))\n",
    "    def forg(c):\n",
    "        c.assert_fact({'subject':c.first.subject,'predicate':'is','object':'frog'})\n",
    "        # 사실 (fact)의 추가\n",
    "    \n",
    "    @when_all(c.first<<(m.predicate=='eats')&(m.object=='files'),\n",
    "              (m.predicate=='lives')&(m.object=='land')&(m.subject==c.first.subject))\n",
    "    def chameleon(c):\n",
    "        c.assert_fact({'subject':c.first.subject,'predicate':'is','object':'chameleon'})\n",
    "    \n",
    "    @when_all((m.predicate=='eats')&(m.object=='worms'))\n",
    "    def bird(c):\n",
    "        c.assert_fact({'subject':c.m.subject,'predicate':'is','object':'bird'})\n",
    "        \n",
    "    @when_all((m.predicate=='is')&(m.object=='forg'))\n",
    "    def green(c):\n",
    "        c.assert_fact({'subject':c.m.subject,'predicate':'is','object':'green'})\n",
    "    \n",
    "    @when_all((m.predicate=='is')&(m.object=='chameleon'))\n",
    "    def grey(c):\n",
    "        c.assert_fact({'subject':c.m.subject,'predicate':'is','object':'grey'})\n",
    "        \n",
    "    @when_all((m.predicate=='is')&(m.object=='bird'))\n",
    "    def black(c):\n",
    "        c.assert_fact({'subject':c.m.subject,'predicate':'is','object':'black'})\n",
    "        \n",
    "    @when_all(+m.subject) #m.subject가 한번 이상 \n",
    "    def output(c):\n",
    "        print('Fact: {0} {1} {2}'.format(c.m.subject, c.m.predicate, c.m.object))\n",
    "\n",
    "assert_fact('animal',{'subject':'Kermit', 'predicate':'eats','object':'flies'})\n",
    "assert_fact('animal',{'subject':'Kermit', 'predicate':'lives','object':'water'})\n",
    "assert_fact('animal',{'subject':'Greedy', 'predicate':'eats','object':'flies'})\n",
    "assert_fact('animal',{'subject':'Greedy', 'predicate':'lives','object':'land'})\n",
    "assert_fact('animal',{'subject':'Tweety', 'predicate':'eats','object':'worms'})    \n",
    "       \n",
    "       \n"
   ]
  },
  {
   "cell_type": "code",
   "execution_count": null,
   "id": "f134eef1",
   "metadata": {},
   "outputs": [],
   "source": []
  },
  {
   "cell_type": "code",
   "execution_count": null,
   "id": "1caafa21",
   "metadata": {},
   "outputs": [],
   "source": []
  }
 ],
 "metadata": {
  "kernelspec": {
   "display_name": "Python 3 (ipykernel)",
   "language": "python",
   "name": "python3"
  },
  "language_info": {
   "codemirror_mode": {
    "name": "ipython",
    "version": 3
   },
   "file_extension": ".py",
   "mimetype": "text/x-python",
   "name": "python",
   "nbconvert_exporter": "python",
   "pygments_lexer": "ipython3",
   "version": "3.11.5"
  }
 },
 "nbformat": 4,
 "nbformat_minor": 5
}
